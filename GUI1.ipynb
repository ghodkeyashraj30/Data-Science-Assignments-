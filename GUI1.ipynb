{
 "cells": [
  {
   "cell_type": "code",
   "execution_count": 1,
   "id": "5e17260a",
   "metadata": {},
   "outputs": [],
   "source": [
    "import os"
   ]
  },
  {
   "cell_type": "code",
   "execution_count": 2,
   "id": "640e071a",
   "metadata": {},
   "outputs": [
    {
     "data": {
      "text/plain": [
       "'C:\\\\Users\\\\Hp\\\\DataScienceCourse'"
      ]
     },
     "execution_count": 2,
     "metadata": {},
     "output_type": "execute_result"
    }
   ],
   "source": [
    "os.getcwd()"
   ]
  },
  {
   "cell_type": "markdown",
   "id": "3363c2a9",
   "metadata": {},
   "source": [
    "## Graphical User Interface (GUI)"
   ]
  },
  {
   "cell_type": "code",
   "execution_count": 21,
   "id": "d8c6afc5",
   "metadata": {},
   "outputs": [],
   "source": [
    "from tkinter import *\n",
    "window = Tk()\n",
    "b1 = Button(window,text = \"CLICK ME\")\n",
    "b1.grid(row = 0,column = 0)\n",
    "\n",
    "e1 = Text(window)\n",
    "e1.grid(row = 0, column = 1)\n",
    "\n",
    "t1 = Text(window,height=15,width = 15)\n",
    "t1.grid(row = 0, column = 2)\n",
    "window.mainloop()"
   ]
  },
  {
   "cell_type": "markdown",
   "id": "09d0a052",
   "metadata": {},
   "source": [
    "## KM to Miles"
   ]
  },
  {
   "cell_type": "code",
   "execution_count": 41,
   "id": "1c0831f8",
   "metadata": {},
   "outputs": [],
   "source": [
    "from tkinter import *\n",
    "window = Tk()\n",
    "\n",
    "def km_to_miles():\n",
    "    miles = float(e1_value.get())*1.6\n",
    "    t1.delete(\"1.0\",END)\n",
    "    t1.insert(END,miles)\n",
    "    \n",
    "b1 = Button(window,text = \"CLICK ME\",command = km_to_miles)\n",
    "b1.grid(row = 0,column = 0)\n",
    "\n",
    "e1_value = StringVar()\n",
    "e1 = Entry(window,textvariable = e1_value)\n",
    "e1.grid(row = 0, column = 1)\n",
    "\n",
    "t1 = Text(window,height=15,width = 15)\n",
    "t1.grid(row = 0, column = 3)\n",
    "window.mainloop()"
   ]
  },
  {
   "cell_type": "code",
   "execution_count": 2,
   "id": "5154bfe1",
   "metadata": {},
   "outputs": [],
   "source": [
    "from tkinter import *\n",
    "window = Tk()\n",
    "\n",
    "def kg_to_gmPoundOunce():\n",
    "    gm = float(e1_value.get())*1000\n",
    "    pound = float(e1_value.get())*2.2\n",
    "    ounce = float(e1_value.get())*35.78\n",
    "    t1.delete(\"1.0\",END)\n",
    "    t1.insert(END,gm)\n",
    "    t2.delete(\"1.0\",END)\n",
    "    t2.insert(END,pound)\n",
    "    t3.delete(\"1.0\",END)\n",
    "    t3.insert(END,ounce)\n",
    "    \n",
    "b1 = Button(window,text = \"CLICK ME\",command = kg_to_gmPoundOunce)\n",
    "b1.grid(row = 0,column = 0)\n",
    "\n",
    "e1_value = StringVar()\n",
    "e1 = Entry(window,textvariable = e1_value)\n",
    "e1.grid(row = 0, column = 1)\n",
    "\n",
    "t1 = Text(window,height=15,width = 15)\n",
    "t1.grid(row = 0, column = 2)\n",
    "t2 = Text(window,height=15,width = 15)\n",
    "t2.grid(row = 1, column = 2)\n",
    "t3 = Text(window,height=15,width = 15)\n",
    "t3.grid(row = 2, column = 2)\n",
    "window.mainloop()"
   ]
  },
  {
   "cell_type": "code",
   "execution_count": 9,
   "id": "b6a3b242",
   "metadata": {},
   "outputs": [],
   "source": [
    "from tkinter import *\n",
    "window = Tk()\n",
    "b1 = Button(window,text = \"CLICK ME\")\n",
    "b1.grid(row = 3,column = 2)\n",
    "\n",
    "window.mainloop()"
   ]
  },
  {
   "cell_type": "code",
   "execution_count": null,
   "id": "195d2bd8",
   "metadata": {},
   "outputs": [],
   "source": []
  },
  {
   "cell_type": "code",
   "execution_count": 28,
   "id": "65157067",
   "metadata": {},
   "outputs": [],
   "source": [
    "x = '2'"
   ]
  },
  {
   "cell_type": "code",
   "execution_count": 29,
   "id": "f5d94cbc",
   "metadata": {},
   "outputs": [
    {
     "data": {
      "text/plain": [
       "'2'"
      ]
     },
     "execution_count": 29,
     "metadata": {},
     "output_type": "execute_result"
    }
   ],
   "source": [
    "x"
   ]
  },
  {
   "cell_type": "code",
   "execution_count": 30,
   "id": "ae5b3d0b",
   "metadata": {},
   "outputs": [
    {
     "data": {
      "text/plain": [
       "str"
      ]
     },
     "execution_count": 30,
     "metadata": {},
     "output_type": "execute_result"
    }
   ],
   "source": [
    "type(x)"
   ]
  },
  {
   "cell_type": "code",
   "execution_count": 35,
   "id": "ee1a7c2a",
   "metadata": {},
   "outputs": [],
   "source": [
    "x= float('2.4')"
   ]
  },
  {
   "cell_type": "code",
   "execution_count": 36,
   "id": "753b8581",
   "metadata": {},
   "outputs": [
    {
     "data": {
      "text/plain": [
       "2.4"
      ]
     },
     "execution_count": 36,
     "metadata": {},
     "output_type": "execute_result"
    }
   ],
   "source": [
    "x"
   ]
  },
  {
   "cell_type": "code",
   "execution_count": 37,
   "id": "a2883911",
   "metadata": {},
   "outputs": [
    {
     "data": {
      "text/plain": [
       "float"
      ]
     },
     "execution_count": 37,
     "metadata": {},
     "output_type": "execute_result"
    }
   ],
   "source": [
    "type(x)"
   ]
  },
  {
   "cell_type": "code",
   "execution_count": null,
   "id": "bfa4db07",
   "metadata": {},
   "outputs": [],
   "source": [
    "from tkinter import *\n",
    "window = Tk()\n",
    "\n",
    "def km_to_miles():\n",
    "    miles = float(e1_value.get())*1.6\n",
    "    t1.delete(\"1.0\",END)\n",
    "    t1.insert(END,miles)\n",
    "    \n",
    "b1 = Button(window,text = \"CLICK ME\",command = km_to_miles)\n",
    "b1.grid(row = 0,column = 0)\n",
    "\n",
    "e1_value = StringVar()\n",
    "e1 = Entry(window,textvariable = e1_value)\n",
    "e1.grid(row = 0, column = 1)\n",
    "\n",
    "t1 = Text(window,height=15,width = 15)\n",
    "t1.grid(row = 0, column = 3)\n",
    "window.mainloop()"
   ]
  }
 ],
 "metadata": {
  "kernelspec": {
   "display_name": "Python 3 (ipykernel)",
   "language": "python",
   "name": "python3"
  },
  "language_info": {
   "codemirror_mode": {
    "name": "ipython",
    "version": 3
   },
   "file_extension": ".py",
   "mimetype": "text/x-python",
   "name": "python",
   "nbconvert_exporter": "python",
   "pygments_lexer": "ipython3",
   "version": "3.9.12"
  }
 },
 "nbformat": 4,
 "nbformat_minor": 5
}
