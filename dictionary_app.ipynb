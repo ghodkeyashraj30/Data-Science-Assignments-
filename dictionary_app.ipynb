{
 "cells": [
  {
   "cell_type": "markdown",
   "id": "7a6e82eb",
   "metadata": {},
   "source": [
    "## Interactive Dictionary"
   ]
  },
  {
   "cell_type": "code",
   "execution_count": 21,
   "id": "d8915242",
   "metadata": {},
   "outputs": [
    {
     "data": {
      "text/plain": [
       "'C:\\\\Users\\\\Hp\\\\DataScienceCourse'"
      ]
     },
     "execution_count": 21,
     "metadata": {},
     "output_type": "execute_result"
    }
   ],
   "source": [
    "pwd"
   ]
  },
  {
   "cell_type": "code",
   "execution_count": 22,
   "id": "d97f6711",
   "metadata": {},
   "outputs": [],
   "source": [
    "import json"
   ]
  },
  {
   "cell_type": "code",
   "execution_count": 23,
   "id": "f4e7c688",
   "metadata": {},
   "outputs": [],
   "source": [
    "data = json.load(open(\"data.json\"))"
   ]
  },
  {
   "cell_type": "code",
   "execution_count": 13,
   "id": "a8537624",
   "metadata": {},
   "outputs": [
    {
     "data": {
      "text/plain": [
       "['A group of persons sharing a home or living space, who aggregate and share their incomes, as evidenced by the fact that they regularly take meals together.',\n",
       " 'The abode of a human being, their place of residence.',\n",
       " 'One’s own dwelling place; the house or structure in which one lives; especially the house in which one lives with his family.',\n",
       " 'To the own house or to the own domicile.',\n",
       " 'An environment offering affection and security.',\n",
       " 'Area where you are and feel at home and in which you are comfortable; usually, but not neccesssarily, the area in which you grow up.',\n",
       " 'The place where something began and flourished.',\n",
       " \"Relating to or being where one lives or where one's roots are.\"]"
      ]
     },
     "execution_count": 13,
     "metadata": {},
     "output_type": "execute_result"
    }
   ],
   "source": [
    "data['home']"
   ]
  },
  {
   "cell_type": "code",
   "execution_count": 14,
   "id": "2026efb7",
   "metadata": {},
   "outputs": [
    {
     "data": {
      "text/plain": [
       "['Precipitation in the form of liquid water drops with diameters greater than 0.5 millimetres.',\n",
       " 'To fall from the clouds in drops of water.']"
      ]
     },
     "execution_count": 14,
     "metadata": {},
     "output_type": "execute_result"
    }
   ],
   "source": [
    "data['rain']"
   ]
  },
  {
   "cell_type": "code",
   "execution_count": 15,
   "id": "1b0265e5",
   "metadata": {},
   "outputs": [
    {
     "data": {
      "text/plain": [
       "['The second largest city in the Indian state of Maharashtra. Once the capital of the Maratha Empire, situated 560 metres above sea level on the Deccan plateau at the confluence of the Mula and Mutha rivers.']"
      ]
     },
     "execution_count": 15,
     "metadata": {},
     "output_type": "execute_result"
    }
   ],
   "source": [
    "data['Pune']"
   ]
  },
  {
   "cell_type": "code",
   "execution_count": 16,
   "id": "c5d89221",
   "metadata": {},
   "outputs": [
    {
     "data": {
      "text/plain": [
       "['Capital of the state of Maharashtra in India.']"
      ]
     },
     "execution_count": 16,
     "metadata": {},
     "output_type": "execute_result"
    }
   ],
   "source": [
    "data['Mumbai']"
   ]
  },
  {
   "cell_type": "code",
   "execution_count": 17,
   "id": "203891c3",
   "metadata": {},
   "outputs": [
    {
     "data": {
      "text/plain": [
       "['A country and federal republic in North America located north of Mexico and south of Canada, including Alaska, Hawaii and overseas territories.']"
      ]
     },
     "execution_count": 17,
     "metadata": {},
     "output_type": "execute_result"
    }
   ],
   "source": [
    "data['USA']"
   ]
  },
  {
   "cell_type": "code",
   "execution_count": 18,
   "id": "f25b0df6",
   "metadata": {},
   "outputs": [
    {
     "ename": "KeyError",
     "evalue": "'usa'",
     "output_type": "error",
     "traceback": [
      "\u001b[1;31m---------------------------------------------------------------------------\u001b[0m",
      "\u001b[1;31mKeyError\u001b[0m                                  Traceback (most recent call last)",
      "Input \u001b[1;32mIn [18]\u001b[0m, in \u001b[0;36m<cell line: 1>\u001b[1;34m()\u001b[0m\n\u001b[1;32m----> 1\u001b[0m \u001b[43mdata\u001b[49m\u001b[43m[\u001b[49m\u001b[38;5;124;43m'\u001b[39;49m\u001b[38;5;124;43musa\u001b[39;49m\u001b[38;5;124;43m'\u001b[39;49m\u001b[43m]\u001b[49m\n",
      "\u001b[1;31mKeyError\u001b[0m: 'usa'"
     ]
    }
   ],
   "source": [
    "data['usa']"
   ]
  },
  {
   "cell_type": "code",
   "execution_count": 19,
   "id": "6a7a68f7",
   "metadata": {},
   "outputs": [
    {
     "data": {
      "text/plain": [
       "['A common four-legged animal (Felis silvestris) that is often kept as a household pet.']"
      ]
     },
     "execution_count": 19,
     "metadata": {},
     "output_type": "execute_result"
    }
   ],
   "source": [
    "data['cat']"
   ]
  },
  {
   "cell_type": "code",
   "execution_count": 20,
   "id": "6b48add3",
   "metadata": {},
   "outputs": [
    {
     "ename": "KeyError",
     "evalue": "'CAT'",
     "output_type": "error",
     "traceback": [
      "\u001b[1;31m---------------------------------------------------------------------------\u001b[0m",
      "\u001b[1;31mKeyError\u001b[0m                                  Traceback (most recent call last)",
      "Input \u001b[1;32mIn [20]\u001b[0m, in \u001b[0;36m<cell line: 1>\u001b[1;34m()\u001b[0m\n\u001b[1;32m----> 1\u001b[0m \u001b[43mdata\u001b[49m\u001b[43m[\u001b[49m\u001b[38;5;124;43m'\u001b[39;49m\u001b[38;5;124;43mCAT\u001b[39;49m\u001b[38;5;124;43m'\u001b[39;49m\u001b[43m]\u001b[49m\n",
      "\u001b[1;31mKeyError\u001b[0m: 'CAT'"
     ]
    }
   ],
   "source": [
    "data['CAT']"
   ]
  },
  {
   "cell_type": "code",
   "execution_count": 30,
   "id": "853e3873",
   "metadata": {},
   "outputs": [
    {
     "name": "stdout",
     "output_type": "stream",
     "text": [
      "Enter the Word to get the meaning: cat\n"
     ]
    },
    {
     "data": {
      "text/plain": [
       "['A common four-legged animal (Felis silvestris) that is often kept as a household pet.']"
      ]
     },
     "execution_count": 30,
     "metadata": {},
     "output_type": "execute_result"
    }
   ],
   "source": [
    "import json\n",
    "data = json.load(open('data.json'))\n",
    "\n",
    "def get_meaning(w):\n",
    "    if w in data:\n",
    "        return data[w]\n",
    "    else:\n",
    "        return \"Word doesn't exist\"\n",
    "word = input(\"Enter the Word to get the meaning: \")\n",
    "get_meaning(word)"
   ]
  },
  {
   "cell_type": "code",
   "execution_count": 28,
   "id": "dc28654e",
   "metadata": {},
   "outputs": [
    {
     "name": "stdout",
     "output_type": "stream",
     "text": [
      "Enter the Word to get the meaning: usa\n"
     ]
    },
    {
     "data": {
      "text/plain": [
       "['A country and federal republic in North America located north of Mexico and south of Canada, including Alaska, Hawaii and overseas territories.']"
      ]
     },
     "execution_count": 28,
     "metadata": {},
     "output_type": "execute_result"
    }
   ],
   "source": [
    "import json\n",
    "data = json.load(open('data.json'))\n",
    "\n",
    "def get_meaning(w):\n",
    "    w = w.lower()\n",
    "    if w in data:\n",
    "        return data[w]\n",
    "    elif w.title() in data:\n",
    "        return data[w.title()]  #first letter uppercase\n",
    "    elif w.upper() in data:\n",
    "        return data[w.upper()]\n",
    "    else:\n",
    "        return \"Word doesn't exist\"\n",
    "word = input(\"Enter the Word to get the meaning: \")\n",
    "get_meaning(word)"
   ]
  },
  {
   "cell_type": "code",
   "execution_count": 1,
   "id": "c2f28380",
   "metadata": {},
   "outputs": [],
   "source": [
    "from difflib import SequenceMatcher #for suggesting nearer match"
   ]
  },
  {
   "cell_type": "code",
   "execution_count": 4,
   "id": "ea6a3fcf",
   "metadata": {},
   "outputs": [
    {
     "data": {
      "text/plain": [
       "0.9090909090909091"
      ]
     },
     "execution_count": 4,
     "metadata": {},
     "output_type": "execute_result"
    }
   ],
   "source": [
    "SequenceMatcher(None,\"India\",\"Indian\").ratio()"
   ]
  },
  {
   "cell_type": "code",
   "execution_count": 11,
   "id": "cfda94c1",
   "metadata": {},
   "outputs": [
    {
     "data": {
      "text/plain": [
       "0.7272727272727273"
      ]
     },
     "execution_count": 11,
     "metadata": {},
     "output_type": "execute_result"
    }
   ],
   "source": [
    "SequenceMatcher(None, \"India\",\"indian\").ratio()"
   ]
  },
  {
   "cell_type": "code",
   "execution_count": 12,
   "id": "a0353873",
   "metadata": {},
   "outputs": [
    {
     "data": {
      "text/plain": [
       "0.2"
      ]
     },
     "execution_count": 12,
     "metadata": {},
     "output_type": "execute_result"
    }
   ],
   "source": [
    "SequenceMatcher(None, \"pune\",\"indian\").ratio()"
   ]
  },
  {
   "cell_type": "code",
   "execution_count": 1,
   "id": "4c247fd8",
   "metadata": {},
   "outputs": [],
   "source": [
    "from difflib import get_close_matches  #for suggesting nearer match"
   ]
  },
  {
   "cell_type": "code",
   "execution_count": 2,
   "id": "28a98266",
   "metadata": {},
   "outputs": [
    {
     "data": {
      "text/plain": [
       "['rain', 'train', 'raid']"
      ]
     },
     "execution_count": 2,
     "metadata": {},
     "output_type": "execute_result"
    }
   ],
   "source": [
    "get_close_matches(\"rainn\",[\"main\",\"train\",\"rain\",\"gain\",\"hello\",\"raid\",\"man\"])"
   ]
  },
  {
   "cell_type": "code",
   "execution_count": 3,
   "id": "037a1954",
   "metadata": {},
   "outputs": [
    {
     "data": {
      "text/plain": [
       "['rain', 'train', 'raid', 'main', 'gain']"
      ]
     },
     "execution_count": 3,
     "metadata": {},
     "output_type": "execute_result"
    }
   ],
   "source": [
    "get_close_matches(\"rainn\",[\"main\",\"train\",\"rain\",\"gain\",\"hello\",\"raid\",\"man\"], n =6)"
   ]
  },
  {
   "cell_type": "code",
   "execution_count": 5,
   "id": "5658cfa4",
   "metadata": {},
   "outputs": [
    {
     "data": {
      "text/plain": [
       "'rain'"
      ]
     },
     "execution_count": 5,
     "metadata": {},
     "output_type": "execute_result"
    }
   ],
   "source": [
    "get_close_matches(\"rainn\",[\"main\",\"train\",\"rain\",\"gain\",\"hello\",\"raid\",\"man\"])[0]"
   ]
  },
  {
   "cell_type": "code",
   "execution_count": 24,
   "id": "d7bfe93c",
   "metadata": {},
   "outputs": [
    {
     "data": {
      "text/plain": [
       "['rain', 'train', 'rainy']"
      ]
     },
     "execution_count": 24,
     "metadata": {},
     "output_type": "execute_result"
    }
   ],
   "source": [
    "get_close_matches(\"rainn\",data.keys())"
   ]
  },
  {
   "cell_type": "code",
   "execution_count": 25,
   "id": "201437c5",
   "metadata": {},
   "outputs": [
    {
     "data": {
      "text/plain": [
       "['rain',\n",
       " 'train',\n",
       " 'rainy',\n",
       " 'grain',\n",
       " 'drain',\n",
       " 'brain',\n",
       " 'training',\n",
       " 'inn',\n",
       " 'strain',\n",
       " 'sprain',\n",
       " 'remain',\n",
       " 'ravine']"
      ]
     },
     "execution_count": 25,
     "metadata": {},
     "output_type": "execute_result"
    }
   ],
   "source": [
    "get_close_matches(\"rainn\",data.keys(), n=12)"
   ]
  },
  {
   "cell_type": "code",
   "execution_count": 5,
   "id": "5af18cc8",
   "metadata": {},
   "outputs": [
    {
     "name": "stdout",
     "output_type": "stream",
     "text": [
      "Enter the Word to get the meaning: rainnn\n",
      "Do you mean rain? Enter Y if Yes otherwise N if Noj\n"
     ]
    },
    {
     "data": {
      "text/plain": [
       "'Not understanding your input'"
      ]
     },
     "execution_count": 5,
     "metadata": {},
     "output_type": "execute_result"
    }
   ],
   "source": [
    "import json\n",
    "from difflib import SequenceMatcher #for suggesting nearer match\n",
    "from difflib import get_close_matches  #for suggesting nearer match\n",
    "data = json.load(open('data.json'))\n",
    "\n",
    "def get_meaning(w):\n",
    "    w = w.lower()\n",
    "    if w in data:\n",
    "        return data[w]\n",
    "    elif w.title() in data:\n",
    "        return data[w.title()]  #first letter uppercase\n",
    "    elif w.upper() in data:\n",
    "        return data[w.upper()]\n",
    "    elif len(get_close_matches(w,data.keys())) > 0:\n",
    "        yn = input(\"Do you mean %s? Enter Y if Yes otherwise N if No\"%get_close_matches(w,data.keys())[0])\n",
    "        if yn == \"Y\":\n",
    "            return data[get_close_matches(w,data.keys())[0]]\n",
    "        elif yn == \"N\":\n",
    "            return \"Word is not there\"\n",
    "        else:\n",
    "            return \"Not understanding your input\"\n",
    "    else:\n",
    "        return \"Word doesn't exist\"\n",
    "word = input(\"Enter the Word to get the meaning: \")\n",
    "get_meaning(word)"
   ]
  },
  {
   "cell_type": "code",
   "execution_count": 31,
   "id": "3b11b9b9",
   "metadata": {},
   "outputs": [],
   "source": [
    "# if you want output outside list"
   ]
  },
  {
   "cell_type": "code",
   "execution_count": 26,
   "id": "789ac729",
   "metadata": {},
   "outputs": [
    {
     "name": "stdout",
     "output_type": "stream",
     "text": [
      "Enter the Word to get the meaning: raain\n",
      "Do you mean rain? Enter Y if Yes otherwise N if No: N\n",
      "Word is not there\n"
     ]
    }
   ],
   "source": [
    "import json\n",
    "from difflib import SequenceMatcher #for suggesting nearer match\n",
    "from difflib import get_close_matches  #for suggesting nearer match\n",
    "data = json.load(open('data.json'))\n",
    "\n",
    "def get_meaning(w):\n",
    "    w = w.lower()\n",
    "    if w in data:\n",
    "        return data[w]\n",
    "    elif w.title() in data:\n",
    "        return data[w.title()]  #first letter uppercase\n",
    "    elif w.upper() in data:\n",
    "        return data[w.upper()]\n",
    "    elif len(get_close_matches(w,data.keys())) > 0:\n",
    "        yn = input(\"Do you mean %s? Enter Y if Yes otherwise N if No: \"%get_close_matches(w,data.keys())[0])\n",
    "        if yn == \"Y\":\n",
    "            return data[get_close_matches(w,data.keys())[0]]\n",
    "        elif yn == \"N\":\n",
    "            return \"Word is not there\"\n",
    "        else:\n",
    "            return \"Not understanding your input\"\n",
    "    else:\n",
    "        return \"Word doesn't exist\"\n",
    "word = input(\"Enter the Word to get the meaning: \")\n",
    "output = get_meaning(word)\n",
    "if type(output) == list:\n",
    "    for i in output:\n",
    "        print(i)\n",
    "else:\n",
    "    print(output)"
   ]
  },
  {
   "cell_type": "code",
   "execution_count": 1,
   "id": "1094377f",
   "metadata": {},
   "outputs": [
    {
     "name": "stdout",
     "output_type": "stream",
     "text": [
      "Enter the Word to get the meaning: rain\n"
     ]
    },
    {
     "data": {
      "text/plain": [
       "['Precipitation in the form of liquid water drops with diameters greater than 0.5 millimetres.',\n",
       " 'To fall from the clouds in drops of water.']"
      ]
     },
     "execution_count": 1,
     "metadata": {},
     "output_type": "execute_result"
    }
   ],
   "source": [
    "import json\n",
    "from difflib import SequenceMatcher #for suggesting nearer match\n",
    "from difflib import get_close_matches  #for suggesting nearer match\n",
    "data = json.load(open('data.json'))\n",
    "\n",
    "def get_meaning(w):\n",
    "    w = w.lower()\n",
    "    if w in data:\n",
    "        return data[w]\n",
    "    elif w.title() in data:\n",
    "        return data[w.title()]  #first letter uppercase\n",
    "    elif w.upper() in data:\n",
    "        return data[w.upper()]\n",
    "    elif len(get_close_matches(w,data.keys())) > 0:\n",
    "        yn = input(\"Do you mean %s? Enter Y if Yes otherwise N if No: \"%get_close_matches(w,data.keys())[0])\n",
    "        if yn == \"Y\":\n",
    "            return data[get_close_matches(w,data.keys())[0]]\n",
    "        elif yn == \"N\":\n",
    "            return \"Word is not there\"\n",
    "        else:\n",
    "            return \"Not understanding your input\"\n",
    "    else:\n",
    "        return \"Word doesn't exist\"\n",
    "word = input(\"Enter the Word to get the meaning: \")\n",
    "get_meaning(word)"
   ]
  },
  {
   "cell_type": "code",
   "execution_count": null,
   "id": "1a486165",
   "metadata": {},
   "outputs": [],
   "source": []
  },
  {
   "cell_type": "code",
   "execution_count": null,
   "id": "db2e3d10",
   "metadata": {},
   "outputs": [],
   "source": []
  },
  {
   "cell_type": "code",
   "execution_count": null,
   "id": "e649e1ae",
   "metadata": {},
   "outputs": [],
   "source": []
  }
 ],
 "metadata": {
  "kernelspec": {
   "display_name": "Python 3 (ipykernel)",
   "language": "python",
   "name": "python3"
  },
  "language_info": {
   "codemirror_mode": {
    "name": "ipython",
    "version": 3
   },
   "file_extension": ".py",
   "mimetype": "text/x-python",
   "name": "python",
   "nbconvert_exporter": "python",
   "pygments_lexer": "ipython3",
   "version": "3.9.12"
  }
 },
 "nbformat": 4,
 "nbformat_minor": 5
}
