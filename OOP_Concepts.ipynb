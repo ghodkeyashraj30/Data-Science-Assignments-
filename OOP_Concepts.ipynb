{
 "cells": [
  {
   "cell_type": "markdown",
   "id": "dd37a605",
   "metadata": {},
   "source": [
    "## Abstraction"
   ]
  },
  {
   "cell_type": "code",
   "execution_count": 1,
   "id": "dcfce505",
   "metadata": {},
   "outputs": [],
   "source": [
    "class person:\n",
    "    def __init__(self,name,surname,yob):\n",
    "        self._name=name       # _ is called as protected\n",
    "        self._surname=surname\n",
    "        self._yob=yob\n",
    "    def test(self,n,m):\n",
    "        return n+m+yob\n",
    "    def __str__(self):\n",
    "        return 'first name is %s & surname is %s and yob is %d'%(self.name,self.surname,self.yob)"
   ]
  },
  {
   "cell_type": "code",
   "execution_count": 2,
   "id": "151d25e5",
   "metadata": {},
   "outputs": [],
   "source": [
    "p=person('Rohit','Sharma',56554)"
   ]
  },
  {
   "cell_type": "code",
   "execution_count": 3,
   "id": "7a2e22ef",
   "metadata": {},
   "outputs": [
    {
     "data": {
      "text/plain": [
       "'Rohit'"
      ]
     },
     "execution_count": 3,
     "metadata": {},
     "output_type": "execute_result"
    }
   ],
   "source": [
    "p._name"
   ]
  },
  {
   "cell_type": "code",
   "execution_count": 4,
   "id": "163f3a6e",
   "metadata": {},
   "outputs": [],
   "source": [
    "class person:\n",
    "    def __init__(self,name,surname,yob):\n",
    "        self.name=name      \n",
    "        self.surname=surname\n",
    "        self.yob=yob\n",
    "    def test(self,n,m):\n",
    "        return n+m+yob\n",
    "    def __str__(self):\n",
    "        return 'first name is %s & surname is %s and yob is %d'%(self.name,self.surname,self.yob)"
   ]
  },
  {
   "cell_type": "code",
   "execution_count": 5,
   "id": "db41fa15",
   "metadata": {},
   "outputs": [],
   "source": [
    "p=person('Rohit','Sharma',56554)"
   ]
  },
  {
   "cell_type": "code",
   "execution_count": 6,
   "id": "4eb5a3e3",
   "metadata": {},
   "outputs": [
    {
     "data": {
      "text/plain": [
       "'Rohit'"
      ]
     },
     "execution_count": 6,
     "metadata": {},
     "output_type": "execute_result"
    }
   ],
   "source": [
    "p.name"
   ]
  },
  {
   "cell_type": "markdown",
   "id": "820962f9",
   "metadata": {},
   "source": [
    "## Inheritence"
   ]
  },
  {
   "cell_type": "code",
   "execution_count": 7,
   "id": "832f31a9",
   "metadata": {},
   "outputs": [],
   "source": [
    "class person:\n",
    "    def __init__(self,name,surname,yob):\n",
    "        self.name=name\n",
    "        self.surname=surname\n",
    "        self.yob=yob\n",
    "    def test(self,n,m):\n",
    "        return n+m+self.yob\n",
    "    def __str__(self):\n",
    "        return \"first name is %s & surname is %s and yob is %d\"%(self.name,self.surname,self.yob)"
   ]
  },
  {
   "cell_type": "code",
   "execution_count": 8,
   "id": "85bbbb68",
   "metadata": {},
   "outputs": [],
   "source": [
    "p1=person('abc','xyz',7788)"
   ]
  },
  {
   "cell_type": "code",
   "execution_count": 9,
   "id": "838b472a",
   "metadata": {},
   "outputs": [
    {
     "data": {
      "text/plain": [
       "7799"
      ]
     },
     "execution_count": 9,
     "metadata": {},
     "output_type": "execute_result"
    }
   ],
   "source": [
    "p1.test(5,6)"
   ]
  },
  {
   "cell_type": "code",
   "execution_count": 10,
   "id": "8d465553",
   "metadata": {},
   "outputs": [
    {
     "data": {
      "text/plain": [
       "'xyz'"
      ]
     },
     "execution_count": 10,
     "metadata": {},
     "output_type": "execute_result"
    }
   ],
   "source": [
    "p1.name"
   ]
  },
  {
   "cell_type": "code",
   "execution_count": 11,
   "id": "b7e4b27c",
   "metadata": {},
   "outputs": [
    {
     "data": {
      "text/plain": [
       "7797"
      ]
     },
     "execution_count": 11,
     "metadata": {},
     "output_type": "execute_result"
    }
   ],
   "source": [
    "p1.test(5,4)"
   ]
  },
  {
   "cell_type": "code",
   "execution_count": 12,
   "id": "f85feef4",
   "metadata": {},
   "outputs": [
    {
     "name": "stdout",
     "output_type": "stream",
     "text": [
      "My name is Sachin\n",
      "My surname is Sharma\n"
     ]
    }
   ],
   "source": [
    "class a:\n",
    "    def test(self):\n",
    "        print('My name is Sachin')\n",
    "class b:\n",
    "    def test(self):\n",
    "        print('My surname is Sharma')\n",
    "class c(a,b):\n",
    "    obja=a()\n",
    "    objb=b()\n",
    "    obja.test()\n",
    "    objb.test()"
   ]
  },
  {
   "cell_type": "code",
   "execution_count": null,
   "id": "1e9fb5d0",
   "metadata": {},
   "outputs": [],
   "source": []
  },
  {
   "cell_type": "markdown",
   "id": "99d0d055",
   "metadata": {},
   "source": [
    "## Encapsulation"
   ]
  },
  {
   "cell_type": "code",
   "execution_count": 13,
   "id": "09c83d72",
   "metadata": {},
   "outputs": [],
   "source": [
    "class tyre:\n",
    "    def __init__(self,branch,baise,opt_pressure):\n",
    "        self.branch=branch\n",
    "        self.baise=baise\n",
    "        self.opt_pressure=opt_pressure\n",
    "    def __str__(self):\n",
    "        return str(self.branch) + str(self.baise) + str(self.opt_pressure)"
   ]
  },
  {
   "cell_type": "code",
   "execution_count": 14,
   "id": "eb55de2f",
   "metadata": {},
   "outputs": [],
   "source": [
    "t=tyre('xyz',56,33)"
   ]
  },
  {
   "cell_type": "code",
   "execution_count": 15,
   "id": "7084ffe4",
   "metadata": {},
   "outputs": [
    {
     "name": "stdout",
     "output_type": "stream",
     "text": [
      "xyz5633\n"
     ]
    }
   ],
   "source": [
    "print(t)"
   ]
  },
  {
   "cell_type": "code",
   "execution_count": 16,
   "id": "238ff7f3",
   "metadata": {},
   "outputs": [],
   "source": [
    "class engine:\n",
    "    def __init__(self,fuel_type,noise_level):\n",
    "        self.fuel_type=fuel_type\n",
    "        self.noise_level=noise_level\n",
    "    def __str__(self):\n",
    "        return str(self.noise_level) + ' ' + str(self.fuel_type)"
   ]
  },
  {
   "cell_type": "code",
   "execution_count": 17,
   "id": "688ed844",
   "metadata": {},
   "outputs": [],
   "source": [
    "e=engine('petrol',56)"
   ]
  },
  {
   "cell_type": "code",
   "execution_count": 18,
   "id": "6b8d526c",
   "metadata": {},
   "outputs": [
    {
     "name": "stdout",
     "output_type": "stream",
     "text": [
      "56 petrol\n"
     ]
    }
   ],
   "source": [
    "print(e)"
   ]
  },
  {
   "cell_type": "code",
   "execution_count": 19,
   "id": "558737dc",
   "metadata": {},
   "outputs": [],
   "source": [
    "class body:\n",
    "    def __init__(self,body_size):\n",
    "        self.body_size=body_size\n",
    "    def __str__(self):\n",
    "        return 'this is my def of engine class ' + str(self.body_size)"
   ]
  },
  {
   "cell_type": "code",
   "execution_count": 20,
   "id": "0ad2802d",
   "metadata": {},
   "outputs": [],
   "source": [
    "b=body('small')"
   ]
  },
  {
   "cell_type": "code",
   "execution_count": 21,
   "id": "522412ee",
   "metadata": {},
   "outputs": [
    {
     "name": "stdout",
     "output_type": "stream",
     "text": [
      "this is my def of engine class small\n"
     ]
    }
   ],
   "source": [
    "print(b)"
   ]
  },
  {
   "cell_type": "code",
   "execution_count": 22,
   "id": "950d5d62",
   "metadata": {},
   "outputs": [],
   "source": [
    "class car:\n",
    "    def __init__(self,ti,ei,bi):\n",
    "        self.ti=ti\n",
    "        self.ei=ei\n",
    "        self.bi=bi\n",
    "    def __str__(self):\n",
    "        return str(self.ti) + ' ' + str(self.ei) + ' ' + str(self.bi)"
   ]
  },
  {
   "cell_type": "code",
   "execution_count": 23,
   "id": "069ec41d",
   "metadata": {},
   "outputs": [],
   "source": [
    "c=car('abc','pqr','xyz')"
   ]
  },
  {
   "cell_type": "code",
   "execution_count": 24,
   "id": "6d275180",
   "metadata": {},
   "outputs": [
    {
     "name": "stdout",
     "output_type": "stream",
     "text": [
      "abc pqr xyz\n"
     ]
    }
   ],
   "source": [
    "print(c)"
   ]
  },
  {
   "cell_type": "code",
   "execution_count": 25,
   "id": "f5036845",
   "metadata": {},
   "outputs": [],
   "source": [
    "c1=car(t,e,b)"
   ]
  },
  {
   "cell_type": "code",
   "execution_count": 26,
   "id": "7b59723c",
   "metadata": {},
   "outputs": [
    {
     "name": "stdout",
     "output_type": "stream",
     "text": [
      "xyz5633 56 petrol this is my def of engine class small\n"
     ]
    }
   ],
   "source": [
    "print(c1)"
   ]
  },
  {
   "cell_type": "markdown",
   "id": "536f6306",
   "metadata": {},
   "source": [
    "## Polymorphism"
   ]
  },
  {
   "cell_type": "code",
   "execution_count": 27,
   "id": "89f5e8c3",
   "metadata": {},
   "outputs": [
    {
     "name": "stdout",
     "output_type": "stream",
     "text": [
      "There are many types of birds.\n",
      "Most of the birds can fly but some cannot.\n",
      "There are many types of birds.\n",
      "Sparrows can fly.\n",
      "There are many types of birds.\n",
      "Ostriches cannot fly.\n"
     ]
    }
   ],
   "source": [
    "class Bird:\n",
    "\n",
    "    def intro(self):\n",
    "        print(\"There are many types of birds.\")\n",
    "\n",
    "    def flight(self):\n",
    "        print(\"Most of the birds can fly but some cannot.\")\n",
    "\n",
    "class sparrow(Bird):\n",
    "\n",
    "    def flight(self):\n",
    "        print(\"Sparrows can fly.\")\n",
    "\n",
    "class ostrich(Bird):\n",
    "\n",
    "    def flight(self):\n",
    "        print(\"Ostriches cannot fly.\")\n",
    "\n",
    "obj_bird = Bird()\n",
    "obj_spr = sparrow()\n",
    "obj_ost = ostrich()\n",
    "\n",
    "obj_bird.intro()\n",
    "obj_bird.flight()\n",
    "\n",
    "obj_spr.intro()\n",
    "obj_spr.flight()\n",
    "\n",
    "obj_ost.intro()\n",
    "obj_ost.flight()\n"
   ]
  },
  {
   "cell_type": "code",
   "execution_count": null,
   "id": "924d4fa4",
   "metadata": {},
   "outputs": [],
   "source": []
  }
 ],
 "metadata": {
  "kernelspec": {
   "display_name": "Python 3 (ipykernel)",
   "language": "python",
   "name": "python3"
  },
  "language_info": {
   "codemirror_mode": {
    "name": "ipython",
    "version": 3
   },
   "file_extension": ".py",
   "mimetype": "text/x-python",
   "name": "python",
   "nbconvert_exporter": "python",
   "pygments_lexer": "ipython3",
   "version": "3.9.12"
  }
 },
 "nbformat": 4,
 "nbformat_minor": 5
}
